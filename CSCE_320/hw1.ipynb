{
 "cells": [
  {
   "cell_type": "markdown",
   "metadata": {},
   "source": [
    "#### CSCE 320 :: Principles of Data Science ::Texas A&M University :: Fall 2020\n",
    "\n",
    "\n",
    "# Homework 1: I Want to Believe!\n",
    "\n",
    "### 100 points [5% of your final grade]\n",
    "### Due: Sunday, September 6 by 11:59pm\n",
    "\n",
    "*Goals of this homework:* The objective of this homework is to collect data from the web, clean it, and then make some observations based on exploratory data analysis.\n",
    "\n",
    "*Submission instructions (Canvas):* To submit your homework, rename this notebook as `UIN_hw1.ipynb`. For example, if your UIN is `123456789`, then your homework submission would be something like `123456789_hw1.ipynb`. Submit this notebook via Canvas (looking for homework 1 under the assignment section. Your notebook should be completely self-contained, with the results visible in the notebook. We should not have to run any code from the command line, nor should we have to run your code within the notebook (though we reserve the right to do so). So please run all the cells for us, and then submit. \n",
    "\n",
    "*Late submission policy:* For this homework, you may use up to three of your late days, meaning that no submissions will be accepted after Wednesday, September 9 at 11:59pm."
   ]
  },
  {
   "cell_type": "markdown",
   "metadata": {},
   "source": [
    "### Collaboration declarations:\n",
    "\n",
    "You should add in all of your collaboration declarations here. \n",
    "\n",
    "* Collaboration Declaration 1\n",
    "* Collaboration Declaration 2\n",
    "* ...\n",
    "\n",
    "*Recall our homework collaboration policy: Your homework is yours alone and you are expected to complete each homework independently. Your solution should be written by you without the direct aid or help of anyone else. However, we believe that collaboration and team work are important for facilitating learning, so we encourage you to discuss problems and general problem approaches (but not actual solutions) with your classmates. If you do have a chat with another student about a homework problem, you must inform us by writing a note on your homework submission (e.g., Bob pointed me to the relevant section for problem 3). The basic rule is that no student should explicitly share a solution with another student (and thereby circumvent the basic learning process), but it is okay to share general approaches, directions, and so on. If you feel like you have an issue that needs clarification, feel free to contact either me or the TA.*"
   ]
  },
  {
   "cell_type": "markdown",
   "metadata": {},
   "source": [
    "## (25 points) Part 1: UFOs are Out There, But First I Need to Store them Locally\n",
    "\n",
    "For this first part, we're going to collect evidence of UFO sightings from the **National UFO Reporting Center**. Specifically, we're going to focus only on UFO sightings in Alaska, as reported at this webpage:\n",
    "\n",
    "* http://www.nuforc.org/webreports/ndxlAK.html\n",
    "\n",
    "Recall that you can view the source of a webpage in Chrome under View &rarr; Developer &rarr; View Source. You'll notice, however, that this raw HTML is not in our friendly csv format and so will require some initial pre-processing. In particular, we're going to use the Python libraries **[requests](https://requests.readthedocs.io/en/master/)** and **[beautiful soup](https://www.crummy.com/software/BeautifulSoup/)** to convert this UFO data from its original HTML format into csv. \n",
    "\n",
    "Hints:\n",
    "* You'll notice that the column headers are in the `<TH>` tags.\n",
    "* The values are in the `<TD>` tags.\n",
    "* In beautiful soup, something like `.find_all('td')` may help you.\n",
    "* To write the csv, you might want to `import csv` and take a look at the functions provided.\n",
    "* If you google for \"beautifulsoup table to csv\" you should find some nice starting points.  Note, however, that you may not use an existing method that auto-magically converts the HTML into csv; we expect you to write your own code. If you borrow some elements from online resources, you should cite them in the comments. "
   ]
  },
  {
   "cell_type": "code",
   "execution_count": null,
   "metadata": {},
   "outputs": [],
   "source": [
    "# your code here\n",
    "# you should use requests to get the webpage, then extract \n",
    "# the appropriate column headings and rows\n",
    "# then write this out to csv to a local file called 'ufo_alaska.csv'"
   ]
  },
  {
   "cell_type": "markdown",
   "metadata": {},
   "source": [
    "Once you have your local csv file, you should read it in and then issue the .head() command."
   ]
  },
  {
   "cell_type": "code",
   "execution_count": null,
   "metadata": {},
   "outputs": [],
   "source": [
    "# your code here"
   ]
  },
  {
   "cell_type": "markdown",
   "metadata": {},
   "source": [
    "## (45 points) Part 2: UFOs are a Mess! Time to Clean Up!\n",
    "\n",
    "Okay, now we move to the fun part -- making sense of this messy data. These UFO reports are user-generated with little input validation. As a result, you will notice lots of oddities. \n",
    "\n",
    "Let's begin by focusing on the **Duration** column. As a first pass, let's make a grossly simplifying assumption -- that the only valid data is any duration that is of the form:  \n",
    "\n",
    "* 1 second\n",
    "* 2 seconds\n",
    "* ...\n",
    "* 1 minute\n",
    "* 2 minutes\n",
    "* ...\n",
    "* 1 hour\n",
    "* 2 hours \n",
    "* ...\n",
    "* 1 day\n",
    "* 2 days \n",
    "* ...\n",
    "\n",
    "That is, we will only accept positive integers followed by a space, followed by a properly spelled unit. Every other entry is invalid. For example, that means these are all invalid durations:\n",
    "\n",
    "* 1s\n",
    "* 2 min.\n",
    "* 2-3 seconds\n",
    "* 10-15min\n",
    "* 1 minute+\n",
    "* 30 minutes and longer\n",
    "* about 1.5 minutes\n",
    "\n",
    "Create a new pandas dataframe that only includes sightings with these values, **where you convert all durations into seconds**. How many total rows are there in the original dataset? How many rows in your new 'validated' dataset? Then plot a boxplot of the duration (in seconds)."
   ]
  },
  {
   "cell_type": "code",
   "execution_count": null,
   "metadata": {},
   "outputs": [],
   "source": [
    "# your code here \n",
    "# filter our invalid durations\n",
    "# convert all valid durations to seconds"
   ]
  },
  {
   "cell_type": "code",
   "execution_count": null,
   "metadata": {},
   "outputs": [],
   "source": [
    "# your code here\n",
    "# total rows in original dataset\n",
    "# valid rows in your new 'validated' dataset"
   ]
  },
  {
   "cell_type": "code",
   "execution_count": null,
   "metadata": {},
   "outputs": [],
   "source": [
    "# your code here\n",
    "# boxplot code here"
   ]
  },
  {
   "cell_type": "markdown",
   "metadata": {},
   "source": [
    "Interesting. But we threw away a **lot** of data. We can do better. For this part, you will do your best to clean up the durations from your original dataset. Keep in mind some initial guidelines:\n",
    "\n",
    "* If a duration has a range, use the average as its value. For example, if the duration is listed as “6-8 minutes”, you should consider the duration as “7 minutes”. (Again, you will need to eventually convert minutes into seconds).\n",
    "* If a duration has a “<” sign, you should simply ignore the “<” sign. For example if the duration is specified as “< 1 minute”, consider the duration to be “1 minute”. You should subsequently convert “1 minute” to \"60 seconds\".\n",
    "* If a duration has a “>” sign, you should simply ignore the “>” sign. \n",
    "* You should ignore any row with an empty duration.\n",
    "\n",
    "You will probably have to improvise as you go along, so make detailed notes of what decisions you are making and why."
   ]
  },
  {
   "cell_type": "code",
   "execution_count": null,
   "metadata": {},
   "outputs": [],
   "source": [
    "# your code here \n",
    "# clean data \n",
    "# convert cleaned durations to seconds"
   ]
  },
  {
   "cell_type": "code",
   "execution_count": null,
   "metadata": {},
   "outputs": [],
   "source": [
    "# your code here\n",
    "# total rows in original dataset\n",
    "# valid rows in your cleaned dataset"
   ]
  },
  {
   "cell_type": "code",
   "execution_count": null,
   "metadata": {},
   "outputs": [],
   "source": [
    "# your code here\n",
    "# draw a boxplot for your cleaned dataset"
   ]
  },
  {
   "cell_type": "markdown",
   "metadata": {},
   "source": [
    "Now, revisit your two boxplots -- for the initial \"valid\" dataset and then for your cleaned dataset. What do you observe? What differences does cleaning have? Would you imagine your downstream analyses would be affected by this cleaning step? Explain."
   ]
  },
  {
   "cell_type": "markdown",
   "metadata": {},
   "source": [
    "`Discussion: Add your discussion here`"
   ]
  },
  {
   "cell_type": "markdown",
   "metadata": {},
   "source": [
    "## (30 points) Part 3: Aliens, aliens everywhere.\n",
    "Finally, let's begin our initial analysis of the cleaned UFO dataset. In this section, we're going to do some plotting with matplotlib and draw some initial conclusions that may guide our future study of this UFO dataset. \n",
    "\n",
    "Which **shapes** are most observed?"
   ]
  },
  {
   "cell_type": "code",
   "execution_count": null,
   "metadata": {},
   "outputs": [],
   "source": [
    "# your code here\n",
    "# create a plot of shapes (your choice of what you consider the appropriate plot)"
   ]
  },
  {
   "cell_type": "markdown",
   "metadata": {},
   "source": [
    "Do different UFO shapes have different durations?"
   ]
  },
  {
   "cell_type": "code",
   "execution_count": null,
   "metadata": {},
   "outputs": [],
   "source": [
    "# your code here\n",
    "# create a plot of shapes/durations"
   ]
  },
  {
   "cell_type": "markdown",
   "metadata": {},
   "source": [
    "Are there more UFO sightings in recent years than in the past?"
   ]
  },
  {
   "cell_type": "code",
   "execution_count": null,
   "metadata": {},
   "outputs": [],
   "source": [
    "# your code here\n",
    "# you might want to bucket the sightings into years\n",
    "# or perhaps you have some other ideas. we are flexible."
   ]
  },
  {
   "cell_type": "markdown",
   "metadata": {},
   "source": [
    "Based on your observations and analyses, what are some important next steps we should take?"
   ]
  },
  {
   "cell_type": "markdown",
   "metadata": {},
   "source": [
    "`Discussion: Add your discussion here`"
   ]
  },
  {
   "cell_type": "markdown",
   "metadata": {},
   "source": [
    "## (10 points) BONUS\n",
    "\n",
    "Finally, we'll set aside a few bonus points for any **amazing** or **inspiring** analysis you would like to do over our UFO data in addition to what we have covered so far. This bonus is designed to be a very heavy workload for very light reward. So focus on finishing the first three parts above before even considering this part. We will be extremely tough on grading this part ... so slapping together a quick figure will most likely result in 0 bonus. Good luck!"
   ]
  },
  {
   "cell_type": "code",
   "execution_count": null,
   "metadata": {},
   "outputs": [],
   "source": [
    "## your code here"
   ]
  }
 ],
 "metadata": {
  "anaconda-cloud": {},
  "kernelspec": {
   "display_name": "Python 3",
   "language": "python",
   "name": "python3"
  },
  "language_info": {
   "codemirror_mode": {
    "name": "ipython",
    "version": 3
   },
   "file_extension": ".py",
   "mimetype": "text/x-python",
   "name": "python",
   "nbconvert_exporter": "python",
   "pygments_lexer": "ipython3",
   "version": "3.8.5"
  }
 },
 "nbformat": 4,
 "nbformat_minor": 1
}
