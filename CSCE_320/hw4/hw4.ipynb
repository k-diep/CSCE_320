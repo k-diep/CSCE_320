{
 "cells": [
  {
   "cell_type": "markdown",
   "metadata": {},
   "source": [
    "###### CSCE 320 :: Principles of Data Science ::Texas A&M University :: Fall 2020\n",
    "\n",
    "\n",
    "# Homework 4: Clustering\n",
    "\n",
    "### 100 points [7% of your final grade]\n",
    "### Due: October 21 by 11:59pm\n",
    "\n",
    "*Goals of this homework:* There are two main objectives of this homework: (i) implement k-means from scratch, (ii)  apply k-means on a toy dataset (the iris data), and (iii) explore the clustering of text data.\n",
    "\n",
    "*Submission instructions (Canvas):* To submit your homework, rename this notebook as `UIN_hw4.ipynb`. For example, if your UIN is `123456789`, then your homework submission would be something like `123456789_hw4.ipynb`. Submit this notebook via Canvas (looking for homework 4 under the assignment section; detailed instructions can be found [here](https://community.canvaslms.com/t5/Student-Guide/How-do-I-upload-a-file-as-an-assignment-submission-in-Canvas/ta-p/274)). Your notebook should be completely self-contained, with the results visible in the notebook. We should not have to run any code from the command line, nor should we have to run your code within the notebook (though we reserve the right to do so). So please run all the cells for us, and then submit. \n",
    "\n",
    "*Late submission policy:* For this homework, you may use up to three of your late days, meaning that no submissions will be accepted after October 24 at 11:59pm."
   ]
  },
  {
   "cell_type": "markdown",
   "metadata": {},
   "source": [
    "### Collaboration declarations:\n",
    "\n",
    "You should add in all of your collaboration declarations here. \n",
    "\n",
    "* https://www.edureka.co/blog/arrays-in-python/\n",
    "* https://stackoverflow.com/questions/9755538/how-do-i-create-a-list-of-random-numbers-without-duplicates\n",
    "* https://realpython.com/python-dicts/\n",
    "* https://realpython.com/python-square-root-function/\n",
    "* https://www.geeksforgeeks.org/python-ways-to-create-a-dictionary-of-lists/\n",
    "* https://www.datasciencecentral.com/profiles/blogs/steps-to-calculate-centroids-in-cluster-using-k-means-clustering\n",
    "* https://stackoverflow.com/questions/12444716/how-do-i-set-the-figure-title-and-axes-labels-font-size-in-matplotlib\n",
    "* https://stackoverflow.com/questions/49806790/iterable-over-raw-text-documents-expected-string-object-received\n",
    "* Piazza for reference\n",
    "\n",
    "*Recall our homework collaboration policy: Your homework is yours alone and you are expected to complete each homework independently. Your solution should be written by you without the direct aid or help of anyone else. However, we believe that collaboration and team work are important for facilitating learning, so we encourage you to discuss problems and general problem approaches (but not actual solutions) with your classmates. If you do have a chat with another student about a homework problem, you must inform us by writing a note on your homework submission (e.g., Bob pointed me to the relevant section for problem 3). The basic rule is that no student should explicitly share a solution with another student (and thereby circumvent the basic learning process), but it is okay to share general approaches, directions, and so on. If you feel like you have an issue that needs clarification, feel free to contact either me or the TA.*"
   ]
  },
  {
   "cell_type": "markdown",
   "metadata": {},
   "source": [
    "## (30 points) Part 1: Implement k-means\n",
    "  \n",
    "For the first part of this assignment, you are going to implement k-means from (almost) scratch, which means you can only use [The Python Standard Library](https://docs.python.org/3/library/). \n",
    "We have predefined some helper functions for the ease of implementation and grading. However, you should always keep the main function's structure in mind while implementing those helper functions."
   ]
  },
  {
   "cell_type": "code",
   "execution_count": 1,
   "metadata": {},
   "outputs": [],
   "source": [
    "# Within the scope of The Python Standard Library, import all packages you need for the implementation of k-means\n",
    "### your imports here ###\n",
    "import random\n",
    "import math"
   ]
  },
  {
   "cell_type": "markdown",
   "metadata": {},
   "source": [
    "**Helper Function 1:** Initialize Centroids  \n",
    "To start with, you need to pick k initial centroids from the data."
   ]
  },
  {
   "cell_type": "code",
   "execution_count": 2,
   "metadata": {},
   "outputs": [],
   "source": [
    "def initializeCentroids(datapoints, k):\n",
    "    length = len(datapoints)\n",
    "    index = random.sample(range(length), k)\n",
    "    centroids = []\n",
    "    for i in range(k):\n",
    "        centroids.append(datapoints[index[i]])\n",
    "    return centroids"
   ]
  },
  {
   "cell_type": "code",
   "execution_count": 3,
   "metadata": {},
   "outputs": [
    {
     "data": {
      "text/plain": [
       "[[7, 8], [3, 4]]"
      ]
     },
     "execution_count": 3,
     "metadata": {},
     "output_type": "execute_result"
    }
   ],
   "source": [
    "# optional: you may fake some simple data to test your implementation of initializeCentroids here\n",
    "### your code here ###\n",
    "data = [[1, 2], [3, 4], [5, 6], [7, 8], [9, 10]]\n",
    "initializeCentroids(data, 2)"
   ]
  },
  {
   "cell_type": "markdown",
   "metadata": {},
   "source": [
    "**Helper Function 2:** Termination Condition  \n",
    "Next, you should determine the termination condition for the loop. This function should return True or False if k-means is done. K-means terminates either because it has run a maximum number of iterations OR the centroids stop changing (your implementation should handle both cases)."
   ]
  },
  {
   "cell_type": "code",
   "execution_count": 111,
   "metadata": {},
   "outputs": [],
   "source": [
    "def termination(oldCentroids, centroids, iterations, max_iterations):\n",
    "    centroids = sorted(centroids)\n",
    "    if oldCentroids != None:\n",
    "        oldCentroids = sorted(oldCentroids)\n",
    "    if iterations >= max_iterations or centroids == oldCentroids:\n",
    "        return True\n",
    "    else:\n",
    "        return False       "
   ]
  },
  {
   "cell_type": "code",
   "execution_count": 112,
   "metadata": {
    "scrolled": true
   },
   "outputs": [
    {
     "name": "stdout",
     "output_type": "stream",
     "text": [
      "True\n",
      "False\n",
      "True\n",
      "True\n"
     ]
    }
   ],
   "source": [
    "# optional: you may fake some simple data to test your implementation of termination here\n",
    "# TEST 1:\n",
    "cent = [[1, 2], [3, 4], [5, 6], [7, 8], [9, 10]]\n",
    "cent2 = [[1, 2], [3, 4], [5, 6], [7, 8], [9, 9]]\n",
    "print(termination(cent, cent2, 10, 10))\n",
    "\n",
    "# TEST 2:\n",
    "cent = [[1, 2], [3, 4], [5, 6], [7, 8], [9, 10]]\n",
    "cent2 = [[1, 2], [3, 4], [5, 6], [7, 8], [9, 9]]\n",
    "print(termination(cent, cent2, 9, 10))\n",
    "\n",
    "# TEST 3:\n",
    "cent = [[1, 2], [3, 4], [5, 6], [7, 8], [9, 10]]\n",
    "cent2 = [[1, 2], [3, 4], [5, 6], [7, 8], [9, 10]]\n",
    "print(termination(cent, cent2, 9, 10))\n",
    "\n",
    "# TEST 4:\n",
    "cent = [[1, 2], [3, 4], [5, 6], [9, 10], [7, 8]]\n",
    "cent2 = [[1, 2], [3, 4], [5, 6], [7, 8], [9, 10]]\n",
    "print(termination(cent, cent2, 9, 10))"
   ]
  },
  {
   "cell_type": "markdown",
   "metadata": {},
   "source": [
    "**Helper Function 3:** Assign Cluster  \n",
    "Now, you can place each datapoint in the cluster whose current centroid is nearest."
   ]
  },
  {
   "cell_type": "code",
   "execution_count": 113,
   "metadata": {},
   "outputs": [],
   "source": [
    "def assignCluster(datapoints, centroids):\n",
    "    clusters = {} # dictionary\n",
    "    index = 0\n",
    "    for i in datapoints:\n",
    "        dist = []\n",
    "        for j in centroids:\n",
    "            euc_dist = 0\n",
    "            for k in range(len(j)): # the dimensions of each array (2D will be 2)\n",
    "                euc_dist += (i[k]-j[k])**2\n",
    "            euc_dist = math.sqrt(euc_dist)\n",
    "            dist.append(euc_dist)\n",
    "        min_index_euc_dist = dist.index(min(dist)) # the index where the min will be\n",
    "        temp_lst  = []\n",
    "        temp_lst.append(i)\n",
    "        temp_lst.append(centroids[min_index_euc_dist])\n",
    "        # first element = datapoint, second element = centroid\n",
    "        \n",
    "        clusters[index] = temp_lst\n",
    "        index += 1\n",
    "    \n",
    "    return clusters"
   ]
  },
  {
   "cell_type": "code",
   "execution_count": 114,
   "metadata": {},
   "outputs": [
    {
     "name": "stdout",
     "output_type": "stream",
     "text": [
      "Centroids: [[5, 6], [9, 10]]\n",
      "{0: [[1, 2], [5, 6]], 1: [[3, 4], [5, 6]], 2: [[5, 6], [5, 6]], 3: [[9, 10], [9, 10]], 4: [[7, 8], [5, 6]]}\n",
      "\n",
      "Centroids: [[3, 4.5], [7, 8], [1, 2]]\n",
      "{0: [[1, 2], [1, 2]], 1: [[3, 4.5], [3, 4.5]], 2: [[5, 6], [3, 4.5]], 3: [[9, 10], [7, 8]], 4: [[7, 8], [7, 8]]}\n",
      "\n"
     ]
    }
   ],
   "source": [
    "# optional: you may fake some simple data to test your implementation of assignCluster here\n",
    "# TEST 1:\n",
    "data = [[1, 2], [3, 4], [5, 6], [9, 10], [7, 8]]\n",
    "cent = initializeCentroids(data, 2)\n",
    "print(\"Centroids:\", cent)\n",
    "print(assignCluster(datapoints = data, centroids = cent))\n",
    "print()\n",
    "\n",
    "# TEST 2:\n",
    "data = [[1, 2], [3, 4.5], [5, 6], [9, 10], [7, 8]]\n",
    "cent = initializeCentroids(data, 3)\n",
    "print(\"Centroids:\", cent)\n",
    "print(assignCluster(datapoints = data, centroids = cent))\n",
    "print()"
   ]
  },
  {
   "cell_type": "markdown",
   "metadata": {},
   "source": [
    "**Helper Function 4:** Calculate Centroids  \n",
    "Finally, the last helper function that calculates the new centroid of each cluster."
   ]
  },
  {
   "cell_type": "code",
   "execution_count": 129,
   "metadata": {},
   "outputs": [],
   "source": [
    "def calculateCentroids(clusters):\n",
    "    clusters_copy = clusters.copy()\n",
    "    centroids = []\n",
    "    counter = len(clusters_copy)\n",
    "    \n",
    "    while(counter != 0 and len(clusters_copy)>=0):\n",
    "        mean = []\n",
    "        index = []\n",
    "        mean_point = []\n",
    "        first_i = list(clusters_copy.keys())[0]\n",
    "        init_centroid = clusters_copy[first_i][1]\n",
    "        \n",
    "        # finding all the values of the cluster put into list - mean\n",
    "        for i in clusters_copy:\n",
    "            datapoint = clusters_copy[i][0]\n",
    "            centroid  = clusters_copy[i][1]\n",
    "            if (centroid == init_centroid):\n",
    "                mean.append(datapoint)\n",
    "                index.append(i)\n",
    "                counter -= 1 # decrement counter\n",
    "        \n",
    "        # calculate mean\n",
    "        for i in range(len(mean[0])): # the dimensions of each array (2D will be 2)\n",
    "            sum_value = 0\n",
    "            count_value = 0\n",
    "            \n",
    "            for j in mean:\n",
    "                sum_value += j[i]\n",
    "                count_value+= 1\n",
    "            mean_value = sum_value/count_value\n",
    "            mean_point.append(mean_value)  \n",
    "        centroids.append(mean_point)\n",
    "       \n",
    "        # deleting from the dictionary where we already calcualte\n",
    "        for i in index:\n",
    "            clusters_copy.pop(i)\n",
    "            \n",
    "    return centroids"
   ]
  },
  {
   "cell_type": "code",
   "execution_count": 130,
   "metadata": {},
   "outputs": [
    {
     "name": "stdout",
     "output_type": "stream",
     "text": [
      "Centroids: [[3, 4], [9, 10], [7, 8]]\n",
      "\n",
      "{0: [[1, 2], [3, 4]], 1: [[3, 4], [3, 4]], 2: [[5, 6], [3, 4]], 3: [[9, 10], [9, 10]], 4: [[7, 8], [7, 8]]}\n",
      "\n"
     ]
    },
    {
     "data": {
      "text/plain": [
       "[[3.0, 4.0], [9.0, 10.0], [7.0, 8.0]]"
      ]
     },
     "execution_count": 130,
     "metadata": {},
     "output_type": "execute_result"
    }
   ],
   "source": [
    "# optional: you may fake some simple data to test your implementation of calculateCentroids here\n",
    "data = [[1, 2], [3, 4], [5, 6], [9, 10], [7, 8]]\n",
    "cent = initializeCentroids(data, 3)\n",
    "print(\"Centroids:\", cent)\n",
    "print()\n",
    "clus = assignCluster(datapoints = data, centroids = cent)\n",
    "print(clus)\n",
    "print()\n",
    "calculateCentroids(clus)"
   ]
  },
  {
   "cell_type": "markdown",
   "metadata": {},
   "source": [
    "**Main Function**  \n",
    "It's time to wrap everything up! This function takes datapoints, k, and max_iteration as input; and it returns **a list of length k in which each element is a cluster of datapoints** and **a list of k centroids**. Also, you may want to **preserve the corresponding order of these two lists for the ease of implementation in part 2**."
   ]
  },
  {
   "cell_type": "code",
   "execution_count": 120,
   "metadata": {},
   "outputs": [],
   "source": [
    "def kmeans(datapoints, k, max_iteration):\n",
    "    # initialization\n",
    "    iterations=0\n",
    "    oldCentroids = None\n",
    "    centroids = initializeCentroids(datapoints, k)\n",
    "    \n",
    "    # Run the main k-means algorithm\n",
    "    while not termination(oldCentroids, centroids, iterations, max_iteration):\n",
    "        # Update recordings\n",
    "        oldCentroids = centroids\n",
    "        iterations += 1\n",
    "        \n",
    "        # Assign clusters based on centroids\n",
    "        clusters = assignCluster(datapoints, centroids)\n",
    "        \n",
    "        # Update centroids\n",
    "        centroids = calculateCentroids(clusters)\n",
    "        \n",
    "    return clusters, centroids"
   ]
  },
  {
   "cell_type": "markdown",
   "metadata": {},
   "source": [
    "## (30 points) Part 2: Clustering Irises\n",
    "For part 2 of this assignment, let's apply the k-means clustering function for plant taxonomy. Specifically, we will try to cluster some irises based on their sepal's and petal's length and width.  \n",
    "\n",
    "**For this part, you will need to:**\n",
    "1. Apply the k-means clustering function you just implemented on the iris data with k=1,2,3,...,9,10;\n",
    "2. Calculate the average distance to centroid for each k;\n",
    "3. Plot the k vs. average distance to centroid graph to pick the best value of k."
   ]
  },
  {
   "cell_type": "code",
   "execution_count": 121,
   "metadata": {},
   "outputs": [
    {
     "name": "stdout",
     "output_type": "stream",
     "text": [
      "   sepal_length  sepal_width   petal_length   petal_width\n",
      "0           5.1          3.5            1.4           0.2\n",
      "1           4.9          3.0            1.4           0.2\n",
      "2           4.7          3.2            1.3           0.2\n",
      "3           4.6          3.1            1.5           0.2\n",
      "4           5.0          3.6            1.4           0.2\n"
     ]
    }
   ],
   "source": [
    "import pandas as pd\n",
    "\n",
    "datapoints = pd.read_csv('Iris.tsv',sep='\\t')\n",
    "print(datapoints.head())"
   ]
  },
  {
   "cell_type": "code",
   "execution_count": 173,
   "metadata": {},
   "outputs": [
    {
     "name": "stdout",
     "output_type": "stream",
     "text": [
      "1\n",
      "2\n",
      "3\n",
      "4\n",
      "5\n",
      "6\n",
      "7\n",
      "8\n",
      "9\n",
      "10\n",
      "[1.9430341590370253, 0.8560279682448627, 0.6489747979610452, 0.5585746563385615, 0.5202315059157019, 0.4983310606817352, 0.4579544924203815, 0.44161792074636563, 0.42200038762802156, 0.3897829201926212]\n"
     ]
    },
    {
     "data": {
      "text/plain": [
       "Text(0, 0.5, 'Average Distance to centroid')"
      ]
     },
     "execution_count": 173,
     "metadata": {},
     "output_type": "execute_result"
    },
    {
     "data": {
      "image/png": "[encoded data removed]",
      "text/plain": [
       "<Figure size 432x288 with 1 Axes>"
      ]
     },
     "metadata": {
      "needs_background": "light"
     },
     "output_type": "display_data"
    }
   ],
   "source": [
    "%matplotlib inline\n",
    "import matplotlib.pyplot as plt\n",
    "import numpy as np\n",
    "import math\n",
    "\n",
    "data = []\n",
    "for row in datapoints.index:\n",
    "    data.append(datapoints.iloc[row].values.tolist())\n",
    "\n",
    "number_clusters = [1, 2, 3, 4, 5, 6, 7, 8, 9, 10]\n",
    "aver_dist_list = []\n",
    "# -----------------------------------------------------------------\n",
    "# finding average distance to centroids\n",
    "for i in range(1, 11):\n",
    "    print(i)\n",
    "    clusters , centroids = kmeans(data, i, 10000)\n",
    "    total_dist = 0\n",
    "    total_number = len(clusters)\n",
    "    for j in clusters:\n",
    "        euc_dist = 0\n",
    "        for k in range(4):\n",
    "            euc_dist += (clusters[j][0][k] - clusters[j][1][k]) ** 2\n",
    "        euc_dist = math.sqrt(euc_dist)\n",
    "        total_dist += euc_dist\n",
    "    aver_dist = total_dist/total_number\n",
    "    aver_dist_list.append(aver_dist)\n",
    "\n",
    "# -----------------------------------------------------------------\n",
    "# ploting k vs \n",
    "print(aver_dist_list)\n",
    "plt.plot(number_clusters, aver_dist_list)\n",
    "plt.xlabel('Number of clusters')\n",
    "plt.ylabel('Average Distance to centroid')\n"
   ]
  },
  {
   "cell_type": "markdown",
   "metadata": {},
   "source": [
    "**What is the best value of k according to your graph?**  \n",
    "In the plot above, the elbow is at k=3. This indicates that the optimal k for this dataset is 3, since more would be overfitting the data. "
   ]
  },
  {
   "cell_type": "markdown",
   "metadata": {},
   "source": [
    "## (40 points) Part 3: Clustering Text Data\n",
    "For the 3rd part of this assignment, you will explore the clustering of text data. The good news: for this part, you can use scikit-learn!\n",
    "\n",
    "Let's take a look at the data:"
   ]
  },
  {
   "cell_type": "code",
   "execution_count": 174,
   "metadata": {},
   "outputs": [
    {
     "name": "stdout",
     "output_type": "stream",
     "text": [
      "Preview:\n",
      "      product_type                                     review_content\n",
      "0  Washing_Machine  Electrolux's Editors' Choice award-winning $1,...\n",
      "1  Washing_Machine  GE's $699 GTW685BSLWS top-load washing machine...\n",
      "2  Washing_Machine  Samsung's $1,899 WV9900 FlexWash is actually t...\n",
      "3  Washing_Machine  The $650 GE GTW485ASJWS might be one of the si...\n",
      "4  Washing_Machine  This $1,200 top-load washing machine seemingly...\n",
      "\n",
      "Shape:\n",
      "(7758, 2)\n",
      "\n",
      "Value Counts:\n",
      "Phone              1212\n",
      "Laptop             1069\n",
      "Camera              834\n",
      "TV                  794\n",
      "Headphone           653\n",
      "Speaker             551\n",
      "Printer             359\n",
      "Networking          355\n",
      "Tablet              282\n",
      "Monitor             258\n",
      "Blu-Ray_Player      229\n",
      "Desktop             216\n",
      "Video_Camera        206\n",
      "AV_Receiver         149\n",
      "Small_Appliance     114\n",
      "Wearable            107\n",
      "Media_Streamers      91\n",
      "Oven                 53\n",
      "Coffee_Maker         49\n",
      "Refrigerator         49\n",
      "Vacuum_Cleaner       45\n",
      "Washing_Machine      38\n",
      "Dryer                23\n",
      "Dishwasher           16\n",
      "Microwave             6\n",
      "Name: product_type, dtype: int64\n"
     ]
    }
   ],
   "source": [
    "import pandas as pd\n",
    "\n",
    "df = pd.read_csv('product_reviews.tsv',sep='\\t')\n",
    "print('Preview:')\n",
    "print(df.head())\n",
    "print('\\nShape:')\n",
    "print(df.shape)\n",
    "print('\\nValue Counts:')\n",
    "print(df['product_type'].value_counts())"
   ]
  },
  {
   "cell_type": "markdown",
   "metadata": {},
   "source": [
    "The dataset contains 7758 product review articles of 25 different types of products. **The goal for this part is to derive a fixed smaller amount of supergroups (say 5~10 clusters; pick your favorite number!) with different clustering algorithms based on the content of reviews of 25 different types of products.**  \n",
    "Before feeding the clustering functions, you need to transform the data a little bit so that the clustering functions can digest the review articles.  \n",
    "\n",
    "First, you should represent each review as a vector, where element i of the vector corresponds to the count of word i in that product review. This is the classic [bag-of-words](https://en.wikipedia.org/wiki/Bag-of-words_model) model. Besides that, you also need to use lower case text, do tokenization, remove punctuations, remove [stop words](https://en.wikipedia.org/wiki/Stop_word), use [n-gram](https://en.wikipedia.org/wiki/N-gram) tokens, etc. for better results.   \n",
    "Now, let's implement all those things."
   ]
  },
  {
   "cell_type": "code",
   "execution_count": null,
   "metadata": {},
   "outputs": [],
   "source": [
    "### don't actually add any code here ... keep reading ... ###"
   ]
  },
  {
   "cell_type": "markdown",
   "metadata": {},
   "source": [
    "**<span style=\"color:red\">Wait a minute!</span> sklearn can do it for your in one line : )**  \n",
    "Take a look at [sklearn.feature_extraction.text.CountVectorizer](https://scikit-learn.org/stable/modules/generated/sklearn.feature_extraction.text.CountVectorizer.html) and apply it to our corpus below. Alternatively, you can opt to implement all those things in the block above with **NO** extra credits :P  \n",
    "**CountVectorizer has a lot of parameters; set them wisely.**"
   ]
  },
  {
   "cell_type": "code",
   "execution_count": 214,
   "metadata": {},
   "outputs": [
    {
     "name": "stdout",
     "output_type": "stream",
     "text": [
      "7758\n"
     ]
    }
   ],
   "source": [
    "from sklearn.feature_extraction.text import CountVectorizer\n",
    "\n",
    "df2 = df.iloc[:,1]\n",
    "\n",
    "# Testing\n",
    "corpus = df2.iloc[0]\n",
    "corpus = [corpus]\n",
    "# print(corpus)\n",
    "vectorizer = CountVectorizer(stop_words='english', strip_accents='unicode', analyzer='word')\n",
    "X = vectorizer.fit_transform(corpus)\n",
    "#print(vectorizer.get_feature_names())\n",
    "#print(X.toarray())\n",
    "\n",
    "# actual\n",
    "\n",
    "word_names = []\n",
    "word_count = []\n",
    "corpus = []\n",
    "for row in df2.index:\n",
    "    review = df2.iloc[row]\n",
    "    corpus.append(review)\n",
    "vectorizer = CountVectorizer(stop_words='english', strip_accents='unicode', analyzer='word')\n",
    "X = vectorizer.fit_transform(corpus)\n",
    "word_names.append(vectorizer.get_feature_names())\n",
    "word_count.append(X.toarray())\n",
    "\n"
   ]
  },
  {
   "cell_type": "markdown",
   "metadata": {},
   "source": [
    "Rather than simply consider word counts as the representation of reviews (as we do in CountVectorizer), we can also consider alternative weightings of the words in our vector representation of each review. One of the classic approaches is [TF-IDF](https://en.wikipedia.org/wiki/Tf–idf), which weighs a term in a document highly if it is popular within the document (term frequency) and also rare across all documents (inverse document frequency). Take a look at [sklearn.feature_extraction.text.TfidfVectorizer](https://scikit-learn.org/stable/modules/generated/sklearn.feature_extraction.text.TfidfVectorizer.html) and apply it to our corpus below."
   ]
  },
  {
   "cell_type": "code",
   "execution_count": 217,
   "metadata": {},
   "outputs": [],
   "source": [
    "from sklearn.feature_extraction.text import TfidfVectorizer\n",
    "from sklearn.feature_extraction.text import TfidfTransformer\n",
    "\n",
    "# Testing\n",
    "corpus = df2.iloc[0]\n",
    "corpus = [corpus]\n",
    "vectorizer = TfidfVectorizer(stop_words='english', strip_accents='unicode', analyzer='word')\n",
    "X3 = vectorizer.fit_transform(corpus)\n",
    "#print(vectorizer.get_feature_names())\n",
    "#print(X.toarray())\n",
    "\n",
    "# Actual\n",
    "word_names_TFIDF = []\n",
    "word_count_TFIDF = []\n",
    "corpus = []\n",
    "for row in df2.index:\n",
    "    review = df2.iloc[row]\n",
    "    corpus.append(review)\n",
    "vectorizer = TfidfVectorizer(stop_words='english', strip_accents='unicode', analyzer='word')\n",
    "X4 = vectorizer.fit_transform(corpus)\n",
    "word_names_TFIDF.append(vectorizer.get_feature_names())\n",
    "word_count_TFIDF.append(X.toarray())\n"
   ]
  },
  {
   "cell_type": "markdown",
   "metadata": {},
   "source": [
    "Now, it's time to do clustering! In the following sections, apply k-means and another clustering algorithm of your choice (within the scope of [sklearn.cluster](https://scikit-learn.org/stable/modules/clustering.html)) to the product review corpus. Try both count vectors and tf-idf vectors, and record:\n",
    "- Cluster Composition by Count: for each cluster, count the amount of reviews by product_type;\n",
    "- Cluster Composition by Percentage: for each product_type, calculate its reviews' distribution (in percentage) across clusters.\n",
    "\n",
    "Recall that you need to pick a number between 5 and 10 as your target amount of supergroups."
   ]
  },
  {
   "cell_type": "code",
   "execution_count": 229,
   "metadata": {},
   "outputs": [
    {
     "name": "stdout",
     "output_type": "stream",
     "text": [
      "[3 3 3 ... 6 3 6]\n"
     ]
    }
   ],
   "source": [
    "from sklearn import cluster\n",
    "from sklearn.cluster import KMeans\n",
    "\n",
    "# will choose 7\n",
    "kmeans = KMeans(n_clusters=7, random_state=0, max_iter = 1000)\n",
    "y_kmeans = kmeans.fit_predict(X)\n",
    "print(y_kmeans)\n",
    "\n",
    "# I do not know to proceed, the next few steps\n",
    "# I also do not have the time, my bad. "
   ]
  },
  {
   "cell_type": "markdown",
   "metadata": {},
   "source": [
    "You may use the following table or use plots to illustrate your experiment results:  \n",
    "\n",
    "|  Model  | Vector | Cluster Composition by Count | Cluster Composition by Percentage |\n",
    "|:-------:|:------:|:----------------------------:|:---------------------------------:|\n",
    "| k-means |  count |            `TODO`            |               `TODO`              |\n",
    "| k-means | tf-idf |            `TODO`            |               `TODO`              |\n",
    "|  `TODO` |  count |            `TODO`            |               `TODO`              |\n",
    "|  `TODO` | tf-idf |            `TODO`            |               `TODO`              |"
   ]
  },
  {
   "cell_type": "markdown",
   "metadata": {},
   "source": [
    "Analyze your experiment results and add a brief discussion here on:\n",
    "- which setting yields better clusters (supergroups)?\n",
    "- what're your justifications for your answer of the above question?\n",
    "- any other observations?"
   ]
  },
  {
   "cell_type": "markdown",
   "metadata": {},
   "source": [
    "`TODO`"
   ]
  },
  {
   "cell_type": "code",
   "execution_count": null,
   "metadata": {},
   "outputs": [],
   "source": []
  }
 ],
 "metadata": {
  "anaconda-cloud": {},
  "kernelspec": {
   "display_name": "Python 3",
   "language": "python",
   "name": "python3"
  },
  "language_info": {
   "codemirror_mode": {
    "name": "ipython",
    "version": 3
   },
   "file_extension": ".py",
   "mimetype": "text/x-python",
   "name": "python",
   "nbconvert_exporter": "python",
   "pygments_lexer": "ipython3",
   "version": "3.8.5"
  }
 },
 "nbformat": 4,
 "nbformat_minor": 1
}
